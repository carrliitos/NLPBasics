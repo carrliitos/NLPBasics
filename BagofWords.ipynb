{
 "cells": [
  {
   "cell_type": "code",
   "execution_count": 1,
   "metadata": {},
   "outputs": [],
   "source": [
    "with open(\"CamelBite.txt\", \"r\") as inputFile:\n",
    "    documents = inputFile.read().splitlines()"
   ]
  },
  {
   "cell_type": "code",
   "execution_count": 2,
   "metadata": {},
   "outputs": [
    {
     "name": "stdout",
     "output_type": "stream",
     "text": [
      "['A 25-year-old male camel caregiver presented to the Emergency Department of Al-Ain Hospital 1 h after being bitten several times in the left side of his head and neck by a 15-year-old male camel.', 'The injury occurred in the farm while the patient was trying to feed the camel.', \"The camel turned aggressive and strongly and repeatedly gripped the patient's face between its jaws, lifting the patient up in the air while shaking and throwing him forcefully to the ground.\", \"These bites were repeated four times to the patient's face and neck.\", \"The patient was able to rescue himself only after putting his headscarf inside the camel's mouth.\", 'On clinical examination, the patient was fully conscious, alert, but in severe distress.', 'His blood pressure was 159/91 mm Hg.', 'Pulse rate was 47 beats per minute, and body temperature was 36. °C.', 'There were multiple puncture and laceration wounds on the left side of his face and neck (Fig. 1).', 'Inspection of the facial wounds showed a swollen left eye with lacerations on the eyelid and eyebrow with extensive sub-conjunctival hemorrhage.', 'An approximately 13 cm lacerated wound on the left side of the face extended from the temporal region to the left chin with surrounding skin erythema.', 'There was bleeding from the left ear with a laceration of the crus of the left helix.', 'Neck inspection showed a 7 cm laceration in the left submandibular area with no obvious injury to the adjacent great vessels (Fig. 1).', 'The patient was given 0. ml of tetanus toxoid vaccine intramuscularly and was admitted to the hospital.', 'A trauma computed tomography (CT) was performed to detect other injuries.', 'Maxillofacial CT without contrast showed a comminuted fracture of the left nasal bone, a fracture of the medial orbital wall with sagging of medial rectus muscle into the fracture space, medial rectus muscle hematoma, fracture of lacrimal bone and displacement of piece of it into the orbit, left preseptal hematoma, complete opaciﬁcation of left intraocular content, crystalline lens was not identiﬁed, and the eye appeared as one chamber with loss of the eyewall integrity (Fig. 2).', 'Although the left optic nerve appeared stretched, there were no obvious CT ﬁndings for its injury.', 'CT angiographic study of the neck arteries showed no evidence of active extravasation, dissection or thrombosis.', 'Prophylactic antibiotic using intravenous ceftriaxone and metronidazole was commenced.', 'The patient was taken to the operation room, and the wounds were explored and debrided under general anesthesia.', 'Upper lid (2 cm) full thickness laceration, eyebrow (3. cm), lateral to lateral canthal area laceration and inferior bulbar conjunctiva were repaired.', 'There was a massive corneal laceration with expulsion of the eye content.', 'Salvaging the left eye was not possible, and evisceration of the eye was performed.', 'Intraoperative examination of the left cheek wound site (Fig.3) revealed macerated muscle with a deep wound penetrating the underlying superﬁcial musculoaponeurotic system.', 'The left Parotid duct was partially transected over the masseter muscle (Fig. 3).', 'This was approximated and primarily repaired using Nylon 8/0 sutures, and the parotid gland capsule was also sutured.', 'The buccal branch of the facial nerve could not be identiﬁed.', 'The nasal bone fracture was managed with closed reduction.', 'The lacerations of the left auricle and the left submandibular region were closed in layers.', 'On a postoperative day 6, the patient developed a small left-sided sialocele which has rapidly progressed into a ﬁstula.', 'This was managed with Hyoscine tablets, transdermal scopolamine, and pressure dressing.', 'A favorable response was observed after three days.', 'The patient was discharged home on day 9 in a good general condition and was placed on Clindamycin 600 mg 4 times a day, Hyoscine 20 mg 3 times a day, and Erythromycin 0.2% ophthalmic ointment.', 'A follow up at one month showed a satisfactory scar, completely healed salivary ﬁstula, and a residual weak upper lip function.', 'The patient gave written informed consent for publication of his clinical images in this manuscript.']\n"
     ]
    }
   ],
   "source": [
    "print(documents)"
   ]
  },
  {
   "cell_type": "code",
   "execution_count": 3,
   "metadata": {},
   "outputs": [],
   "source": [
    "# import libraries we need\n",
    "from sklearn.feature_extraction.text import CountVectorizer"
   ]
  },
  {
   "cell_type": "code",
   "execution_count": 4,
   "metadata": {},
   "outputs": [],
   "source": [
    "import pandas as pd"
   ]
  },
  {
   "cell_type": "code",
   "execution_count": 6,
   "metadata": {},
   "outputs": [],
   "source": [
    "# Step 2. Design the vocabulary\n",
    "# the default token pattern removes tokens of a single character.\n",
    "count_vectorizer = CountVectorizer()"
   ]
  },
  {
   "cell_type": "code",
   "execution_count": 7,
   "metadata": {},
   "outputs": [],
   "source": [
    "bag_of_words = count_vectorizer.fit_transform(documents)"
   ]
  },
  {
   "cell_type": "code",
   "execution_count": null,
   "metadata": {},
   "outputs": [],
   "source": [
    "feature_names = count_vectorizer.get_feature_names()\n",
    "pd.DataFrame(bag_of_words.toarray())"
   ]
  }
 ],
 "metadata": {
  "kernelspec": {
   "display_name": "Python 3",
   "language": "python",
   "name": "python3"
  },
  "language_info": {
   "codemirror_mode": {
    "name": "ipython",
    "version": 3
   },
   "file_extension": ".py",
   "mimetype": "text/x-python",
   "name": "python",
   "nbconvert_exporter": "python",
   "pygments_lexer": "ipython3",
   "version": "3.8.2"
  }
 },
 "nbformat": 4,
 "nbformat_minor": 4
}
