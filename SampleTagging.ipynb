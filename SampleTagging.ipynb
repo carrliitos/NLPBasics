{
 "cells": [
  {
   "cell_type": "code",
   "execution_count": 1,
   "metadata": {},
   "outputs": [
    {
     "name": "stderr",
     "output_type": "stream",
     "text": [
      "[nltk_data]   Unzipping tokenizers/punkt.zip.\n"
     ]
    },
    {
     "data": {
      "text/plain": [
       "True"
      ]
     },
     "execution_count": 1,
     "metadata": {},
     "output_type": "execute_result"
    }
   ],
   "source": [
    "import nltk\n",
    "nltk.download('punkt')"
   ]
  },
  {
   "cell_type": "code",
   "execution_count": 3,
   "metadata": {},
   "outputs": [],
   "source": [
    "sentence = \"A 64-year-old African American male with unknown past medical history arrived in the trauma bay following a motor vehicle accident.\\\n",
    "\t\t\tOn initial evaluation, the patient was alert but somewhat confused and had a Glasgow Coma Scale (GCS) of 13.\""
   ]
  },
  {
   "cell_type": "code",
   "execution_count": 4,
   "metadata": {},
   "outputs": [],
   "source": [
    "token = nltk.word_tokenize(sentence)"
   ]
  },
  {
   "cell_type": "code",
   "execution_count": 5,
   "metadata": {},
   "outputs": [
    {
     "data": {
      "text/plain": [
       "['A',\n",
       " '64-year-old',\n",
       " 'African',\n",
       " 'American',\n",
       " 'male',\n",
       " 'with',\n",
       " 'unknown',\n",
       " 'past',\n",
       " 'medical',\n",
       " 'history',\n",
       " 'arrived',\n",
       " 'in',\n",
       " 'the',\n",
       " 'trauma',\n",
       " 'bay',\n",
       " 'following',\n",
       " 'a',\n",
       " 'motor',\n",
       " 'vehicle',\n",
       " 'accident',\n",
       " '.',\n",
       " 'On',\n",
       " 'initial',\n",
       " 'evaluation',\n",
       " ',',\n",
       " 'the',\n",
       " 'patient',\n",
       " 'was',\n",
       " 'alert',\n",
       " 'but',\n",
       " 'somewhat',\n",
       " 'confused',\n",
       " 'and',\n",
       " 'had',\n",
       " 'a',\n",
       " 'Glasgow',\n",
       " 'Coma',\n",
       " 'Scale',\n",
       " '(',\n",
       " 'GCS',\n",
       " ')',\n",
       " 'of',\n",
       " '13',\n",
       " '.']"
      ]
     },
     "execution_count": 5,
     "metadata": {},
     "output_type": "execute_result"
    }
   ],
   "source": [
    "token"
   ]
  },
  {
   "cell_type": "code",
   "execution_count": 7,
   "metadata": {},
   "outputs": [
    {
     "name": "stderr",
     "output_type": "stream",
     "text": [
      "[nltk_data] Downloading package averaged_perceptron_tagger to\n",
      "[nltk_data]     /home/carlitos/nltk_data...\n",
      "[nltk_data]   Unzipping taggers/averaged_perceptron_tagger.zip.\n"
     ]
    },
    {
     "data": {
      "text/plain": [
       "[('A', 'DT'),\n",
       " ('64-year-old', 'JJ'),\n",
       " ('African', 'JJ'),\n",
       " ('American', 'JJ'),\n",
       " ('male', 'NN'),\n",
       " ('with', 'IN'),\n",
       " ('unknown', 'JJ'),\n",
       " ('past', 'JJ'),\n",
       " ('medical', 'JJ'),\n",
       " ('history', 'NN'),\n",
       " ('arrived', 'VBN'),\n",
       " ('in', 'IN'),\n",
       " ('the', 'DT'),\n",
       " ('trauma', 'NN'),\n",
       " ('bay', 'NN'),\n",
       " ('following', 'VBG'),\n",
       " ('a', 'DT'),\n",
       " ('motor', 'NN'),\n",
       " ('vehicle', 'NN'),\n",
       " ('accident', 'NN'),\n",
       " ('.', '.'),\n",
       " ('On', 'IN'),\n",
       " ('initial', 'JJ'),\n",
       " ('evaluation', 'NN'),\n",
       " (',', ','),\n",
       " ('the', 'DT'),\n",
       " ('patient', 'NN'),\n",
       " ('was', 'VBD'),\n",
       " ('alert', 'JJ'),\n",
       " ('but', 'CC'),\n",
       " ('somewhat', 'RB'),\n",
       " ('confused', 'JJ'),\n",
       " ('and', 'CC'),\n",
       " ('had', 'VBD'),\n",
       " ('a', 'DT'),\n",
       " ('Glasgow', 'NNP'),\n",
       " ('Coma', 'NNP'),\n",
       " ('Scale', 'NNP'),\n",
       " ('(', '('),\n",
       " ('GCS', 'NNP'),\n",
       " (')', ')'),\n",
       " ('of', 'IN'),\n",
       " ('13', 'CD'),\n",
       " ('.', '.')]"
      ]
     },
     "execution_count": 7,
     "metadata": {},
     "output_type": "execute_result"
    }
   ],
   "source": [
    "nltk.download('averaged_perceptron_tagger')\n",
    "nltk.pos_tag(token)"
   ]
  },
  {
   "cell_type": "code",
   "execution_count": null,
   "metadata": {},
   "outputs": [],
   "source": []
  }
 ],
 "metadata": {
  "kernelspec": {
   "display_name": "Python 3",
   "language": "python",
   "name": "python3"
  },
  "language_info": {
   "codemirror_mode": {
    "name": "ipython",
    "version": 3
   },
   "file_extension": ".py",
   "mimetype": "text/x-python",
   "name": "python",
   "nbconvert_exporter": "python",
   "pygments_lexer": "ipython3",
   "version": "3.8.2"
  }
 },
 "nbformat": 4,
 "nbformat_minor": 4
}
